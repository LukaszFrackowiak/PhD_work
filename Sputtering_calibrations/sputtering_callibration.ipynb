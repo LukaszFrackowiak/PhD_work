{
 "cells": [
  {
   "cell_type": "code",
   "execution_count": 83,
   "id": "dfb3bc14-495e-491b-869e-904025c06863",
   "metadata": {},
   "outputs": [],
   "source": [
    "#inicjalizacja bibliotek\n",
    "import pandas as pd\n",
    "import numpy as np\n",
    "from sympy import symbols, Eq, solve\n",
    "import matplotlib.pyplot as plt\n",
    "#metrics\n",
    "from sklearn.metrics import mean_squared_error, r2_score\n",
    "\n",
    "#GUI\n",
    "import tkinter as tk\n",
    "\n",
    "import copy"
   ]
  },
  {
   "cell_type": "code",
   "execution_count": 116,
   "id": "12f50122-d7e3-4d12-876c-bce094498f27",
   "metadata": {},
   "outputs": [],
   "source": [
    "class point:\n",
    "    \"Power_Element1 - power suply of Element1 target, Power_Element2 - power suply of Element2 target, Concentration_Element1 - concentrations in the middle of sample, total_thickness - total thickness of alloy\"\n",
    "    def __init__(self, Element1, Element2 , Power_Element1, Power_Element2, Concentration_Element1, total_thickness, time, tElement1=None, tElement2=None):\n",
    "        \n",
    "        data = {\"Co\":6.67*10**-6, \"Ni\":6.59*10**-6, \"Au\":10.21*10**-6, \"Pt\":9.09*10**-6, \"Tb\":1.93*10**-5} # dict with molecular volume of elements\n",
    "        \n",
    "        self.Element1 = Element1\n",
    "        self.Element2 = Element2\n",
    "        self.Power_Element1 = Power_Element1\n",
    "        self.Power_Element2 = Power_Element2\n",
    "        self.Concentration_Element1 = Concentration_Element1\n",
    "        self.total_thickness = total_thickness\n",
    "        self.time = time\n",
    "        \n",
    "        #inicjalizacja wartości stałych\n",
    "        self.VElement1 = data[Element1]\n",
    "        self.VElement2 = data[Element2]\n",
    "        self.deposition_rate()\n",
    "        \n",
    "       \n",
    "    def thickness(self):\n",
    "        tElement11, tElement21 = symbols('tElement1, tElement2')\n",
    "        eq1 = Eq(100*(tElement11/self.VElement1)/((tElement11/self.VElement1) + ((tElement21)/self.VElement2)),self.Concentration_Element1)\n",
    "        eq2 =  Eq(tElement21 + tElement11,self.total_thickness)\n",
    "        solved = dict((str(key), float(value)) for (key, value) in solve((eq1,eq2),(tElement11,tElement21)).items())\n",
    "        self.tElement1  = solved['tElement1'] \n",
    "        self.tElement2 = solved['tElement2']\n",
    "        return solved\n",
    "    \n",
    "    def deposition_rate(self):\n",
    "        try:\n",
    "            dr_solved = dict((key, value/self.time) for (key, value) in self.thickness().items())\n",
    "            self.rate_Element1 = dr_solved['tElement1']\n",
    "            self.rate_Element2 = dr_solved['tElement2']\n",
    "            return dr_solved\n",
    "        except ZeroDivisionError as Error:\n",
    "            print(\"Time Error\")\n",
    "        \n",
    "\n",
    "    @staticmethod\n",
    "    def line(*samples):\n",
    "        line_param={}\n",
    "        #firslty we do list comprehension, after that to flat array to 1D we use sum(list,[]) method, next we transform list to set to get only unique value, and as last we create empty dictionary by another list of comprehension\n",
    "        element_dict = {i: [] for i in sum([[element.Element1, element.Element2] for element in samples],[])}\n",
    "        power_dict = copy.deepcopy(element_dict)\n",
    "        for sample in samples:\n",
    "            element_dict[sample.Element1].append(sample.rate_Element1)\n",
    "            element_dict[sample.Element2].append(sample.rate_Element2)\n",
    "            power_dict[sample.Element1].append(sample.Power_Element1)\n",
    "            power_dict[sample.Element2].append(sample.Power_Element2)\n",
    "\n",
    "        for element in element_dict:\n",
    "            fit = np.polyfit(x=power_dict[element], y=element_dict[element], deg=1)\n",
    "            fit1D = np.poly1d(fit)\n",
    "            line_param[f\"{element}_slope\"] = fit[0]\n",
    "            line_param[f\"{element}_intercept\"] = fit[1]\n",
    "                 \n",
    "        return line_param                \n",
    "    @staticmethod\n",
    "    def make_df(*B):\n",
    "        return pd.DataFrame([point.line(*B)])\n"
   ]
  },
  {
   "cell_type": "markdown",
   "id": "95baa978-0bde-4d46-89c6-47ab6038a371",
   "metadata": {},
   "source": [
    "# GUI"
   ]
  },
  {
   "cell_type": "code",
   "execution_count": 3,
   "id": "cef1bdc2-c342-4c2f-b224-881e16871ef2",
   "metadata": {},
   "outputs": [
    {
     "data": {
      "text/plain": [
       "<__main__.App_window at 0x24c569c0760>"
      ]
     },
     "execution_count": 3,
     "metadata": {},
     "output_type": "execute_result"
    }
   ],
   "source": [
    "class App_window():\n",
    "    \n",
    "    def __init__(self, point):\n",
    "       \n",
    "        self.point = point\n",
    "        \n",
    "        #root initialization\n",
    "        self.root = tk.Tk()\n",
    "        self.root.title(\"Sputtering Calibration\")\n",
    "        self.root.geometry(\"600x600\")\n",
    "        self.logic = False\n",
    "        self.logic2 = False\n",
    "        #cordinations initialization\n",
    "        self.x, self.y = 0.2, 0.1 \n",
    "        #self.check_var = True\n",
    "        self.entry_list = []\n",
    "        #elements of windows first frame\n",
    "        self.start_frame()\n",
    "        self.Add()\n",
    "        self.create_field()\n",
    "        self.root.mainloop()\n",
    "        \n",
    "        \n",
    "     \n",
    "    def start_frame(self):\n",
    "        self.text = tk.Label(text=\"Please enter value of: \\n PTb [W], PCo [W], cTb [at.%], tTbco [A]\", font=(\"\", 10))\n",
    "        self.text.place(relx=self.x, rely=self.y, anchor='center')\n",
    "        \n",
    "        self.button_exit = tk.Button(text=\"EXIT\", command = self._exit)\n",
    "        self.button_exit.place(relx=0.1, rely=0.9, anchor='sw')\n",
    "        \n",
    "        self.button_calculate = tk.Button(text=\"Calculate\", command = self.calculate)\n",
    "        self.button_calculate.place(relx=0.5, rely=0.3)\n",
    "        \n",
    "    def Add(self):\n",
    "        if self.logic:\n",
    "                self.entry_list.append(self.entry.get())\n",
    "        else:\n",
    "            self.logic=True\n",
    "        #self.entry_list.append(self.entry.get()) if self.logic else self.logic=True  #save values from entry into entry_list\n",
    "        self.button_new = tk.Button(text=\"Add new point\", command= self.create_field)\n",
    "        self.button_new.place(relx = self.x+0.07, rely= self.y+0.05)\n",
    "        \n",
    "\"\"\"        \n",
    "    def create_field(self):\n",
    "        \n",
    "        #self.button1.place(relx= self.x-0.1, rely= self.y+0.05)\n",
    "        if self.logic2:\n",
    "                self.entry_list.append(self.entry.get())\n",
    "        else:\n",
    "            self.logic2=True\n",
    "        self.entry = tk.Entry()\n",
    "        self.entry.place(relx= self.x-0.15, rely= self.y+0.055)\n",
    "        \n",
    "        self.y += 0.05\n",
    "        self.y += 0.05\n",
    "        #self.button_check = tk.Button(text=\"✅\", height= 1,command=self.check)\n",
    "        #self.button_check.place(relx= self.x_but2, rely=self.y_ent)\n",
    "\"\"\"        \n",
    "    def calculate(self):\n",
    "        self.entry_list.append(self.entry.get()) #save values from entry into entry_list\n",
    "        self.text2 = tk.Label(text=f\"{self.entry_list}\", font=(\"\", 10))\n",
    "        self.text2.place(relx=0.5, rely=0.5)\n",
    "        self.entry_list.pop() #prevent addint new element to entry_list by multiple clicking of calculate button\n",
    "       \n",
    "    def _exit(self):\n",
    "        self.root.quit()  # stops mainloop\n",
    "        self.root.destroy()  # this is necessary on Windows to preven\n",
    "\n",
    "\n",
    "            \n",
    "\n",
    "App_window(point)"
   ]
  },
  {
   "cell_type": "code",
   "execution_count": 123,
   "id": "8eff295a-965a-44bb-b31d-2dd73163e589",
   "metadata": {},
   "outputs": [],
   "source": [
    "Ni1 = point(\"Ni\",\"Co\",10,50, 5.5,1450,1000)\n",
    "Ni2 = point(\"Ni\",\"Au\",15,60,6.8,1776,1000)\n",
    "Ni3 = point(\"Co\",\"Au\",20,70,8.3,2076,1000)"
   ]
  },
  {
   "cell_type": "code",
   "execution_count": 124,
   "id": "7c46aaf5-e7da-4b59-9d1c-2fa5bc0bff9b",
   "metadata": {},
   "outputs": [
    {
     "data": {
      "text/html": [
       "<div>\n",
       "<style scoped>\n",
       "    .dataframe tbody tr th:only-of-type {\n",
       "        vertical-align: middle;\n",
       "    }\n",
       "\n",
       "    .dataframe tbody tr th {\n",
       "        vertical-align: top;\n",
       "    }\n",
       "\n",
       "    .dataframe thead th {\n",
       "        text-align: right;\n",
       "    }\n",
       "</style>\n",
       "<table border=\"1\" class=\"dataframe\">\n",
       "  <thead>\n",
       "    <tr style=\"text-align: right;\">\n",
       "      <th></th>\n",
       "      <th>Ni_slope</th>\n",
       "      <th>Ni_intercept</th>\n",
       "      <th>Co_slope</th>\n",
       "      <th>Co_intercept</th>\n",
       "      <th>Au_slope</th>\n",
       "      <th>Au_intercept</th>\n",
       "    </tr>\n",
       "  </thead>\n",
       "  <tbody>\n",
       "    <tr>\n",
       "      <th>0</th>\n",
       "      <td>0.000206</td>\n",
       "      <td>0.076787</td>\n",
       "      <td>0.041842</td>\n",
       "      <td>-0.720935</td>\n",
       "      <td>0.026397</td>\n",
       "      <td>0.112281</td>\n",
       "    </tr>\n",
       "  </tbody>\n",
       "</table>\n",
       "</div>"
      ],
      "text/plain": [
       "   Ni_slope  Ni_intercept  Co_slope  Co_intercept  Au_slope  Au_intercept\n",
       "0  0.000206      0.076787  0.041842     -0.720935  0.026397      0.112281"
      ]
     },
     "execution_count": 124,
     "metadata": {},
     "output_type": "execute_result"
    }
   ],
   "source": [
    "a=point.line(Ni1,Ni2,Ni3)\n",
    "df=pd.DataFrame([a])\n",
    "df"
   ]
  },
  {
   "cell_type": "code",
   "execution_count": 120,
   "id": "68008d57-2241-43f1-a27f-8d2a1f2729ee",
   "metadata": {},
   "outputs": [],
   "source": [
    "Pt1 = point(\"Co\",\"Pt\",10,50,9.2,1000,1000)\n",
    "Pt2 = point(\"Co\",\"Pt\",20,60,15,1245,1000)\n",
    "Pt3 = point(\"Co\",\"Pt\",30,70,19.6,1614,1000)"
   ]
  },
  {
   "cell_type": "code",
   "execution_count": 93,
   "id": "92b06a87-e648-4e97-839b-bb05b22460d8",
   "metadata": {},
   "outputs": [],
   "source": [
    "p1 = point(\"Co\",\"Pt\",15,50,12,1096,1000)\n",
    "p2 = point(\"Co\",\"Pt\",30,60,20,1439,1000)\n",
    "p3 = point(\"Co\",\"Pt\",15,37.5,17.5,442,500)"
   ]
  },
  {
   "cell_type": "code",
   "execution_count": 125,
   "id": "aabe2a23-b734-48b7-bacb-d549ca3c7a03",
   "metadata": {},
   "outputs": [
    {
     "data": {
      "text/plain": [
       "{'Co_slope': 0.008268066970850673,\n",
       " 'Co_intercept': -0.015586780786049127,\n",
       " 'Pt_slope': 0.018666216731322353,\n",
       " 'Pt_intercept': 0.04436111145102399}"
      ]
     },
     "execution_count": 125,
     "metadata": {},
     "output_type": "execute_result"
    }
   ],
   "source": [
    "point.line(p1,p2,p3, Pt1, Pt2, Pt3)"
   ]
  },
  {
   "cell_type": "code",
   "execution_count": 10,
   "id": "8aeb3a09-2843-496f-978c-ac46652cd0c0",
   "metadata": {},
   "outputs": [
    {
     "data": {
      "text/html": [
       "<div>\n",
       "<style scoped>\n",
       "    .dataframe tbody tr th:only-of-type {\n",
       "        vertical-align: middle;\n",
       "    }\n",
       "\n",
       "    .dataframe tbody tr th {\n",
       "        vertical-align: top;\n",
       "    }\n",
       "\n",
       "    .dataframe thead th {\n",
       "        text-align: right;\n",
       "    }\n",
       "</style>\n",
       "<table border=\"1\" class=\"dataframe\">\n",
       "  <thead>\n",
       "    <tr style=\"text-align: right;\">\n",
       "      <th></th>\n",
       "      <th>aTb</th>\n",
       "      <th>bTb</th>\n",
       "      <th>Tb_r2_score</th>\n",
       "      <th>Tb_mean_square_error</th>\n",
       "      <th>aCo</th>\n",
       "      <th>bCo</th>\n",
       "      <th>Co_r2_score</th>\n",
       "      <th>Co_mean_square_error</th>\n",
       "    </tr>\n",
       "  </thead>\n",
       "  <tbody>\n",
       "    <tr>\n",
       "      <th>0</th>\n",
       "      <td>0.007579</td>\n",
       "      <td>-0.004304</td>\n",
       "      <td>0.978687</td>\n",
       "      <td>0.000063</td>\n",
       "      <td>0.019982</td>\n",
       "      <td>0.00996</td>\n",
       "      <td>0.997597</td>\n",
       "      <td>0.000081</td>\n",
       "    </tr>\n",
       "  </tbody>\n",
       "</table>\n",
       "</div>"
      ],
      "text/plain": [
       "        aTb       bTb  Tb_r2_score  Tb_mean_square_error       aCo      bCo  \\\n",
       "0  0.007579 -0.004304     0.978687              0.000063  0.019982  0.00996   \n",
       "\n",
       "   Co_r2_score  Co_mean_square_error  \n",
       "0     0.997597              0.000081  "
      ]
     },
     "execution_count": 10,
     "metadata": {},
     "output_type": "execute_result"
    }
   ],
   "source": [
    "point.make_df(p1,p2,p3)"
   ]
  },
  {
   "cell_type": "code",
   "execution_count": 8,
   "id": "288d250c-8579-45bb-bf7e-0265408657d3",
   "metadata": {},
   "outputs": [
    {
     "data": {
      "text/plain": [
       "{'tTb': 59.5308948249006, 'tCo': 382.4691051750994}"
      ]
     },
     "execution_count": 8,
     "metadata": {},
     "output_type": "execute_result"
    }
   ],
   "source": [
    "p1.thickness()\n",
    "p3.thickness()"
   ]
  },
  {
   "cell_type": "code",
   "execution_count": 11,
   "id": "53c03074-5191-4c47-9290-e3ef1a9072c9",
   "metadata": {},
   "outputs": [],
   "source": [
    "x= np.linspace(0,50,1000)\n",
    "y1 = x*0.008224399427362911-0.02367527819620648\n",
    "y2 = x*0.004786-0.006355\n",
    "y3 = x*0.007579--0.004304"
   ]
  },
  {
   "cell_type": "code",
   "execution_count": 7,
   "id": "fcfccaa9-ff5e-42e3-b5ce-5b6d58f1cbaf",
   "metadata": {},
   "outputs": [],
   "source": [
    "import matplotlib.pyplot as plt"
   ]
  },
  {
   "cell_type": "code",
   "execution_count": 12,
   "id": "b294e028-aede-4b89-a470-b18414c1b925",
   "metadata": {},
   "outputs": [
    {
     "data": {
      "image/png": "[encoded data removed]",
      "text/plain": [
       "<Figure size 432x288 with 1 Axes>"
      ]
     },
     "metadata": {
      "needs_background": "light"
     },
     "output_type": "display_data"
    }
   ],
   "source": [
    "plt.plot(x,y1,\"r\")\n",
    "plt.plot(x,y2, \"b\")\n",
    "plt.plot(x,y3,\"g\")\n",
    "plt.show()"
   ]
  },
  {
   "cell_type": "code",
   "execution_count": 14,
   "id": "33b978c5-9e17-414a-88f0-2ffe8d4d0169",
   "metadata": {},
   "outputs": [
    {
     "data": {
      "image/png": "[encoded data removed]",
      "text/plain": [
       "<Figure size 432x288 with 1 Axes>"
      ]
     },
     "metadata": {
      "needs_background": "light"
     },
     "output_type": "display_data"
    }
   ],
   "source": [
    "pt1 = x*0.021963-0.101861\n",
    "pt2 = x*0.019982+0.00996\n",
    "plt.plot(x,pt1,\"r\")\n",
    "plt.plot(x,pt2, \"b\")\n",
    "plt.show()"
   ]
  }
 ],
 "metadata": {
  "kernelspec": {
   "display_name": "Python 3 (ipykernel)",
   "language": "python",
   "name": "python3"
  },
  "language_info": {
   "codemirror_mode": {
    "name": "ipython",
    "version": 3
   },
   "file_extension": ".py",
   "mimetype": "text/x-python",
   "name": "python",
   "nbconvert_exporter": "python",
   "pygments_lexer": "ipython3",
   "version": "3.9.12"
  }
 },
 "nbformat": 4,
 "nbformat_minor": 5
}
