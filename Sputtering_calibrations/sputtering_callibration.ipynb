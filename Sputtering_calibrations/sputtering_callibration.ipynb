{
 "cells": [
  {
   "cell_type": "code",
   "execution_count": 1,
   "id": "dfb3bc14-495e-491b-869e-904025c06863",
   "metadata": {},
   "outputs": [],
   "source": [
    "#inicjalizacja bibliotek\n",
    "import pandas as pd\n",
    "import numpy as np\n",
    "from sympy import symbols, Eq, solve\n",
    "import matplotlib.pyplot as plt\n",
    "#metrics\n",
    "from sklearn.metrics import mean_squared_error, r2_score\n",
    "\n",
    "#GUI\n",
    "import tkinter as tk"
   ]
  },
  {
   "cell_type": "code",
   "execution_count": 2,
   "id": "12f50122-d7e3-4d12-876c-bce094498f27",
   "metadata": {},
   "outputs": [],
   "source": [
    "class point:\n",
    "    \"PTb - power suply of Tb target, PCo - power suply of Co target, cTb - concentrations in the middle of sample, tTbCo - total thickness of alloy\"\n",
    "    def __init__(self, PTb, PCo, cTb, tTbCo, tTb=None, tCo=None):\n",
    "        self.PTb = PTb\n",
    "        self.PCo = PCo\n",
    "        self.cTb = cTb\n",
    "        self.tTbCo = tTbCo\n",
    "        #inicjalizacja wartości stałych\n",
    "        self.VTb = 1.93*10**-5\n",
    "        self.VCo = 6.67*10**-6\n",
    "\n",
    "    def thickness(self):\n",
    "        tTb1, tCo1 = symbols('tTb tCo')\n",
    "        eq1 = Eq(100*(tTb1/self.VTb)/((tTb1/self.VTb) + ((tCo1)/self.VCo)),self.cTb)\n",
    "        eq2 =  Eq(tCo1 + tTb1,self.tTbCo)\n",
    "        solved = dict((str(key), float(value)) for (key, value) in solve((eq1,eq2),(tTb1,tCo1)).items())\n",
    "        self.tTb  = solved['tTb'] \n",
    "        self.tCo = solved['tCo']\n",
    "        return solved\n",
    "    \n",
    "    @staticmethod    \n",
    "    def line(*B):\n",
    "        list_of_points = list(map(point.thickness,B))\n",
    "        PTb = [element.PTb for element in B]\n",
    "        PCo = [element.PCo for element in B]\n",
    "        tTb = [point['tTb'] for point in list_of_points]\n",
    "        tCo = [point['tCo'] for point in list_of_points]\n",
    "        \n",
    "        fitTb = np.polyfit(x=PTb, y=tTb, deg=1)\n",
    "        fitTb1D = np.poly1d(fitTb)\n",
    "        fitCo = np.polyfit(x=PCo, y=tCo, deg=1)\n",
    "        fitCo1D = np.poly1d(fitCo)\n",
    "        summary = {\"aTb\":fitTb[0],\"bTb\":fitTb[1],\"Tb_r2_score\":r2_score(tTb,fitTb1D(PTb)),\"Tb_mean_square_error\":mean_squared_error(tTb,fitTb1D(PTb)),\n",
    "                  \"aCo\":fitCo[0],\"bCo\":fitCo[1],\"Co_r2_score\":r2_score(tCo,fitCo1D(PCo)),\"Co_mean_square_error\":mean_squared_error(tCo,fitCo1D(PCo))}\n",
    "        return summary    "
   ]
  },
  {
   "cell_type": "markdown",
   "id": "95baa978-0bde-4d46-89c6-47ab6038a371",
   "metadata": {},
   "source": [
    "# GUI for application"
   ]
  },
  {
   "cell_type": "code",
   "execution_count": null,
   "id": "cef1bdc2-c342-4c2f-b224-881e16871ef2",
   "metadata": {},
   "outputs": [],
   "source": [
    "class App_window():\n",
    "    \n",
    "    def __init__(self, point):\n",
    "       \n",
    "        self.point = point\n",
    "        \n",
    "        #root initialization\n",
    "        self.root = tk.Tk()\n",
    "        self.root.title(\"Sputtering Calibration\")\n",
    "        self.root.geometry(\"600x600\")\n",
    "        self.logic = False\n",
    "        self.logic2 = False\n",
    "        #cordinations initialization\n",
    "        self.x, self.y = 0.2, 0.1 \n",
    "        #self.check_var = True\n",
    "        self.entry_list = []\n",
    "        #elements of windows first frame\n",
    "        self.start_frame()\n",
    "        self.Add()\n",
    "        self.create_field()\n",
    "        self.root.mainloop()\n",
    "        \n",
    "        \n",
    "     \n",
    "    def start_frame(self):\n",
    "        self.text = tk.Label(text=\"Please enter value of: \\n PTb [W], PCo [W], cTb [at.%], tTbco [A]\", font=(\"\", 10))\n",
    "        self.text.place(relx=self.x, rely=self.y, anchor='center')\n",
    "        \n",
    "        self.button_exit = tk.Button(text=\"EXIT\", command = self._exit)\n",
    "        self.button_exit.place(relx=0.1, rely=0.9, anchor='sw')\n",
    "        \n",
    "        self.button_calculate = tk.Button(text=\"Calculate\", command = self.calculate)\n",
    "        self.button_calculate.place(relx=0.5, rely=0.3)\n",
    "        \n",
    "    def Add(self):\n",
    "        if self.logic:\n",
    "                self.entry_list.append(self.entry.get())\n",
    "        else:\n",
    "            self.logic=True\n",
    "        #self.entry_list.append(self.entry.get()) if self.logic else self.logic=True  #save values from entry into entry_list\n",
    "        self.button_new = tk.Button(text=\"Add new point\", command= self.create_field)\n",
    "        self.button_new.place(relx = self.x+0.07, rely= self.y+0.05)\n",
    "        \n",
    "        \n",
    "    def create_field(self):\n",
    "        \n",
    "        #self.button1.place(relx= self.x-0.1, rely= self.y+0.05)\n",
    "        if self.logic2:\n",
    "                self.entry_list.append(self.entry.get())\n",
    "        else:\n",
    "            self.logic2=True\n",
    "        self.entry = tk.Entry()\n",
    "        self.entry.place(relx= self.x-0.15, rely= self.y+0.055)\n",
    "        \n",
    "        self.y += 0.05\n",
    "        self.y += 0.05\n",
    "        #self.button_check = tk.Button(text=\"✅\", height= 1,command=self.check)\n",
    "        #self.button_check.place(relx= self.x_but2, rely=self.y_ent)\n",
    "        \n",
    "    def calculate(self):\n",
    "        self.entry_list.append(self.entry.get()) #save values from entry into entry_list\n",
    "        self.text2 = tk.Label(text=f\"{self.entry_list}\", font=(\"\", 10))\n",
    "        self.text2.place(relx=0.5, rely=0.5)\n",
    "        self.entry_list.pop() #prevent addint new element to entry_list by multiple clicking of calculate button\n",
    "       \n",
    "    def _exit(self):\n",
    "        self.root.quit()  # stops mainloop\n",
    "        self.root.destroy()  # this is necessary on Windows to preven\n",
    "\n",
    "\n",
    "            \n",
    "\n",
    "App_window(point)"
   ]
  },
  {
   "cell_type": "code",
   "execution_count": 22,
   "id": "7bd89c37-41f1-4107-a75e-920b6f8aac1d",
   "metadata": {},
   "outputs": [
    {
     "data": {
      "text/plain": [
       "2"
      ]
     },
     "execution_count": 22,
     "metadata": {},
     "output_type": "execute_result"
    }
   ],
   "source": [
    "1 if False else 2"
   ]
  },
  {
   "cell_type": "code",
   "execution_count": null,
   "id": "8eff295a-965a-44bb-b31d-2dd73163e589",
   "metadata": {},
   "outputs": [],
   "source": []
  }
 ],
 "metadata": {
  "kernelspec": {
   "display_name": "Python 3 (ipykernel)",
   "language": "python",
   "name": "python3"
  },
  "language_info": {
   "codemirror_mode": {
    "name": "ipython",
    "version": 3
   },
   "file_extension": ".py",
   "mimetype": "text/x-python",
   "name": "python",
   "nbconvert_exporter": "python",
   "pygments_lexer": "ipython3",
   "version": "3.9.12"
  }
 },
 "nbformat": 4,
 "nbformat_minor": 5
}
